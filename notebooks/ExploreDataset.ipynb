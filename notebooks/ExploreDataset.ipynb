{
 "cells": [
  {
   "cell_type": "code",
   "execution_count": 4,
   "id": "a8906101-dd74-4b7a-bbcf-3df873deb690",
   "metadata": {
    "tags": []
   },
   "outputs": [],
   "source": [
    "import glob, os\n",
    "import pandas as pd\n",
    "import nibabel as nib\n",
    "import numpy as np"
   ]
  },
  {
   "cell_type": "code",
   "execution_count": 14,
   "id": "f52d08e9-ff72-4d49-a43e-3a8f9e3904de",
   "metadata": {},
   "outputs": [],
   "source": [
    "classes = {1 : 'eye',\n",
    "          2 : 'nerve',\n",
    "          3: 'tumor',\n",
    "          4: 'ret_det'}"
   ]
  },
  {
   "cell_type": "markdown",
   "id": "c8ee74df-c4d1-4cf8-bbac-c08d33c33575",
   "metadata": {
    "tags": []
   },
   "source": [
    "# Masks and classes"
   ]
  },
  {
   "cell_type": "code",
   "execution_count": 5,
   "id": "81396f9c-620a-4093-a726-7636e8109369",
   "metadata": {
    "tags": []
   },
   "outputs": [
    {
     "data": {
      "text/plain": [
       "30"
      ]
     },
     "execution_count": 5,
     "metadata": {},
     "output_type": "execute_result"
    }
   ],
   "source": [
    "masks = glob.glob('/home/orco/data/Orbita_AI/Dataset/labels/*/*.nii.gz')\n",
    "len(masks)"
   ]
  },
  {
   "cell_type": "code",
   "execution_count": 21,
   "id": "e5b16071-b24c-4c4b-8c8c-659ee2bb791f",
   "metadata": {
    "tags": []
   },
   "outputs": [
    {
     "data": {
      "text/plain": [
       "'12120492'"
      ]
     },
     "execution_count": 21,
     "metadata": {},
     "output_type": "execute_result"
    }
   ],
   "source": [
    "sids = [i.split('/')[-2] for i in masks]\n",
    "sids[0]"
   ]
  },
  {
   "cell_type": "code",
   "execution_count": 10,
   "id": "1bb21f37-ea11-4f4a-be1d-9a20bd98624e",
   "metadata": {
    "tags": []
   },
   "outputs": [],
   "source": [
    "masksm = '/home/orco/data/Orbita_AI/Dataset/labels/{sid}/{sid}.nii.gz'"
   ]
  },
  {
   "cell_type": "code",
   "execution_count": 17,
   "id": "6b4940c7-e7cd-4d83-be6a-dad9af6521f8",
   "metadata": {
    "tags": []
   },
   "outputs": [],
   "source": [
    "l = []\n",
    "for i in sids:\n",
    "    mask = masksm.format(sid=i)\n",
    "    nii = nib.load(mask)\n",
    "    nii_arr = nii.get_fdata().astype(np.uint8)\n",
    "    tissues = np.unique(nii_arr)\n",
    "    has_tissues = [i in np.unique(nii_arr) for i in classes.keys()]\n",
    "    l.append([i] + has_tissues)"
   ]
  },
  {
   "cell_type": "code",
   "execution_count": 19,
   "id": "ad30da76-8615-48c1-8365-32007f7fdd2b",
   "metadata": {
    "tags": []
   },
   "outputs": [],
   "source": [
    "df = pd.DataFrame(l)\n",
    "df.columns = ['sid'] + ['has_{}'.format(classes[i]) for i in classes.keys()]"
   ]
  },
  {
   "cell_type": "code",
   "execution_count": 20,
   "id": "f4129995-e235-44b9-9908-00fc9982e2f2",
   "metadata": {
    "tags": []
   },
   "outputs": [
    {
     "data": {
      "text/html": [
       "<div>\n",
       "<style scoped>\n",
       "    .dataframe tbody tr th:only-of-type {\n",
       "        vertical-align: middle;\n",
       "    }\n",
       "\n",
       "    .dataframe tbody tr th {\n",
       "        vertical-align: top;\n",
       "    }\n",
       "\n",
       "    .dataframe thead th {\n",
       "        text-align: right;\n",
       "    }\n",
       "</style>\n",
       "<table border=\"1\" class=\"dataframe\">\n",
       "  <thead>\n",
       "    <tr style=\"text-align: right;\">\n",
       "      <th></th>\n",
       "      <th>sid</th>\n",
       "      <th>has_eye</th>\n",
       "      <th>has_nerve</th>\n",
       "      <th>has_tumor</th>\n",
       "      <th>has_ret_det</th>\n",
       "    </tr>\n",
       "  </thead>\n",
       "  <tbody>\n",
       "    <tr>\n",
       "      <th>0</th>\n",
       "      <td>12120492</td>\n",
       "      <td>True</td>\n",
       "      <td>True</td>\n",
       "      <td>False</td>\n",
       "      <td>False</td>\n",
       "    </tr>\n",
       "    <tr>\n",
       "      <th>1</th>\n",
       "      <td>11908918</td>\n",
       "      <td>True</td>\n",
       "      <td>True</td>\n",
       "      <td>False</td>\n",
       "      <td>False</td>\n",
       "    </tr>\n",
       "    <tr>\n",
       "      <th>2</th>\n",
       "      <td>12273112</td>\n",
       "      <td>True</td>\n",
       "      <td>True</td>\n",
       "      <td>False</td>\n",
       "      <td>False</td>\n",
       "    </tr>\n",
       "    <tr>\n",
       "      <th>3</th>\n",
       "      <td>12244752</td>\n",
       "      <td>True</td>\n",
       "      <td>True</td>\n",
       "      <td>True</td>\n",
       "      <td>True</td>\n",
       "    </tr>\n",
       "    <tr>\n",
       "      <th>4</th>\n",
       "      <td>11931037</td>\n",
       "      <td>True</td>\n",
       "      <td>True</td>\n",
       "      <td>True</td>\n",
       "      <td>True</td>\n",
       "    </tr>\n",
       "  </tbody>\n",
       "</table>\n",
       "</div>"
      ],
      "text/plain": [
       "        sid  has_eye  has_nerve  has_tumor  has_ret_det\n",
       "0  12120492     True       True      False        False\n",
       "1  11908918     True       True      False        False\n",
       "2  12273112     True       True      False        False\n",
       "3  12244752     True       True       True         True\n",
       "4  11931037     True       True       True         True"
      ]
     },
     "execution_count": 20,
     "metadata": {},
     "output_type": "execute_result"
    }
   ],
   "source": [
    "df.head()"
   ]
  },
  {
   "cell_type": "code",
   "execution_count": 38,
   "id": "056a1280-f00f-4589-979e-5556e0ff4876",
   "metadata": {
    "tags": []
   },
   "outputs": [
    {
     "data": {
      "text/html": [
       "<div>\n",
       "<style scoped>\n",
       "    .dataframe tbody tr th:only-of-type {\n",
       "        vertical-align: middle;\n",
       "    }\n",
       "\n",
       "    .dataframe tbody tr th {\n",
       "        vertical-align: top;\n",
       "    }\n",
       "\n",
       "    .dataframe thead th {\n",
       "        text-align: right;\n",
       "    }\n",
       "</style>\n",
       "<table border=\"1\" class=\"dataframe\">\n",
       "  <thead>\n",
       "    <tr style=\"text-align: right;\">\n",
       "      <th></th>\n",
       "      <th>sid</th>\n",
       "      <th>has_eye</th>\n",
       "      <th>has_nerve</th>\n",
       "      <th>has_tumor</th>\n",
       "      <th>has_ret_det</th>\n",
       "    </tr>\n",
       "  </thead>\n",
       "  <tbody>\n",
       "    <tr>\n",
       "      <th>count</th>\n",
       "      <td>30</td>\n",
       "      <td>30</td>\n",
       "      <td>30</td>\n",
       "      <td>30</td>\n",
       "      <td>30</td>\n",
       "    </tr>\n",
       "    <tr>\n",
       "      <th>unique</th>\n",
       "      <td>29</td>\n",
       "      <td>1</td>\n",
       "      <td>1</td>\n",
       "      <td>2</td>\n",
       "      <td>2</td>\n",
       "    </tr>\n",
       "    <tr>\n",
       "      <th>top</th>\n",
       "      <td>11883011</td>\n",
       "      <td>True</td>\n",
       "      <td>True</td>\n",
       "      <td>True</td>\n",
       "      <td>True</td>\n",
       "    </tr>\n",
       "    <tr>\n",
       "      <th>freq</th>\n",
       "      <td>2</td>\n",
       "      <td>30</td>\n",
       "      <td>30</td>\n",
       "      <td>17</td>\n",
       "      <td>22</td>\n",
       "    </tr>\n",
       "  </tbody>\n",
       "</table>\n",
       "</div>"
      ],
      "text/plain": [
       "             sid has_eye has_nerve has_tumor has_ret_det\n",
       "count         30      30        30        30          30\n",
       "unique        29       1         1         2           2\n",
       "top     11883011    True      True      True        True\n",
       "freq           2      30        30        17          22"
      ]
     },
     "execution_count": 38,
     "metadata": {},
     "output_type": "execute_result"
    }
   ],
   "source": [
    "df.describe()"
   ]
  },
  {
   "cell_type": "code",
   "execution_count": 39,
   "id": "cc7ba365-ba5f-4bcb-8e3c-8d862220bc82",
   "metadata": {
    "tags": []
   },
   "outputs": [],
   "source": [
    "# Check Keys"
   ]
  },
  {
   "cell_type": "code",
   "execution_count": 40,
   "id": "f75b3b2d-7134-4a50-8038-a429a85304ea",
   "metadata": {
    "tags": []
   },
   "outputs": [
    {
     "name": "stdout",
     "output_type": "stream",
     "text": [
      "[0 1 2]\n",
      "[0 1 2 4]\n",
      "[0 1 2]\n",
      "[0 1 2]\n",
      "[0 1 2 3 4]\n",
      "[0 1 2 3 4]\n",
      "[0 1 2 3 4]\n",
      "[0 1 2]\n",
      "[0 1 2 3 4]\n",
      "[0 1 2]\n",
      "[0 1 2 3 4]\n",
      "[0 1 2 3 4]\n",
      "[0 1 2 3 4]\n",
      "[0 1 2 4]\n",
      "[0 1 2]\n",
      "[0 1 2 4]\n",
      "[0 1 2 3 4]\n",
      "[0 1 2]\n",
      "[0 1 2]\n",
      "[0 1 2 4]\n",
      "[0 1 2 3 4]\n",
      "[0 1 2 3 4]\n",
      "[0 1 2 3 4]\n",
      "[0 1 2 3 4]\n",
      "[0 1 2 3 4]\n",
      "[0 1 2 3 4]\n",
      "[0 1 2]\n",
      "[0 1 2 3 4]\n",
      "[0 1 2 4]\n",
      "[0 1 2 4]\n",
      "[0 1 2 3 4]\n",
      "[0 1 2 3 4]\n",
      "[0 1 2 4]\n",
      "[0 1 2 3 4]\n",
      "[0 1 2 3 4]\n",
      "[0 1 2 4]\n",
      "[0 1 2]\n",
      "[0 1 2]\n",
      "[0 1 2 3 4]\n",
      "[0 1 2]\n",
      "[0 1 2 3]\n",
      "[0 1 2 3 4]\n",
      "[0 1 2]\n",
      "[0 1 2 3 4]\n",
      "[0 1 2 4]\n",
      "[0 1 2 4]\n",
      "[0 1 2 3 4]\n",
      "[0 1 2]\n",
      "[0 1 2 3]\n",
      "[0 1 2 3 4]\n",
      "[0 1 2 4]\n",
      "[0 1 2]\n",
      "[0 1 2 3 4]\n",
      "[0 1 2]\n",
      "[0 1 2 3 4]\n",
      "[0 1 2]\n",
      "[0 1 2 3 4]\n",
      "[0 1 2 4]\n",
      "[0 1 2 3 4]\n"
     ]
    }
   ],
   "source": [
    "for i in glob.glob('/home/meddebma/Projects/Orbita_AI/nnUNet/nnUNet_raw/Dataset001_test/labelsTr/*.nii.gz'):\n",
    "    print(np.unique(nib.load(i).get_fdata().astype(np.uint8)))"
   ]
  },
  {
   "cell_type": "code",
   "execution_count": null,
   "id": "cff29662-785b-4a02-abcc-9c18e9a1c2fe",
   "metadata": {},
   "outputs": [],
   "source": []
  }
 ],
 "metadata": {
  "kernelspec": {
   "display_name": "Python 3 (ipykernel)",
   "language": "python",
   "name": "python3"
  },
  "language_info": {
   "codemirror_mode": {
    "name": "ipython",
    "version": 3
   },
   "file_extension": ".py",
   "mimetype": "text/x-python",
   "name": "python",
   "nbconvert_exporter": "python",
   "pygments_lexer": "ipython3",
   "version": "3.9.16"
  }
 },
 "nbformat": 4,
 "nbformat_minor": 5
}
