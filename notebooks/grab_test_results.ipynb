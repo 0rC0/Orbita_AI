{
 "cells": [
  {
   "cell_type": "code",
   "execution_count": 60,
   "id": "d2d932fb-54d7-413f-9f93-61b0960f3c10",
   "metadata": {},
   "outputs": [],
   "source": [
    "import pandas as pd\n",
    "import glob\n",
    "import os\n",
    "import shutil\n",
    "import re\n",
    "from joblib import Parallel, delayed\n",
    "import nibabel as nib\n",
    "import numpy as np\n",
    "import random\n",
    "import seaborn as sns\n",
    "from datetime import datetime"
   ]
  },
  {
   "cell_type": "code",
   "execution_count": 15,
   "id": "3ccca1d0-df22-4627-81dc-6f0a02031666",
   "metadata": {},
   "outputs": [],
   "source": [
    "import sys\n",
    "sys.path.append('/media/raid/orco/data/ICH/code/neurorad_bids_utils')\n",
    "from bids_utils.utils import utils, mask_utils"
   ]
  },
  {
   "cell_type": "code",
   "execution_count": 11,
   "id": "c95aa2f5-acf8-4fd4-9fb5-35f626a9ee7f",
   "metadata": {},
   "outputs": [],
   "source": [
    "preds = glob.glob('/home/orco/data/Orbita_AI/nnUNet/nnUNet_raw/Dataset001_test/test*/OrbitAI_*.nii.gz')"
   ]
  },
  {
   "cell_type": "code",
   "execution_count": 32,
   "id": "69d2ead1-4065-40ac-9a3b-77c54e68489f",
   "metadata": {},
   "outputs": [],
   "source": [
    "df = pd.DataFrame(preds)\n",
    "df.columns = ['prediction']\n",
    "df['gt'] = df.prediction.apply(lambda x: '/home/orco/data/Orbita_AI/nnUNet/nnUNet_raw/Dataset001_test/labelsTs/' + os.path.basename(x))\n",
    "df['geom'] = df.prediction.apply(lambda x: '3d' if 'test_3d' in x else '2d' if 'test_2d' in x else 'NA')"
   ]
  },
  {
   "cell_type": "code",
   "execution_count": 33,
   "id": "f768884b-8379-4df5-aecc-e8e0cae85ede",
   "metadata": {},
   "outputs": [
    {
     "data": {
      "text/html": [
       "<div>\n",
       "<style scoped>\n",
       "    .dataframe tbody tr th:only-of-type {\n",
       "        vertical-align: middle;\n",
       "    }\n",
       "\n",
       "    .dataframe tbody tr th {\n",
       "        vertical-align: top;\n",
       "    }\n",
       "\n",
       "    .dataframe thead th {\n",
       "        text-align: right;\n",
       "    }\n",
       "</style>\n",
       "<table border=\"1\" class=\"dataframe\">\n",
       "  <thead>\n",
       "    <tr style=\"text-align: right;\">\n",
       "      <th></th>\n",
       "      <th>prediction</th>\n",
       "      <th>gt</th>\n",
       "      <th>geom</th>\n",
       "    </tr>\n",
       "  </thead>\n",
       "  <tbody>\n",
       "    <tr>\n",
       "      <th>0</th>\n",
       "      <td>/home/orco/data/Orbita_AI/nnUNet/nnUNet_raw/Da...</td>\n",
       "      <td>/home/orco/data/Orbita_AI/nnUNet/nnUNet_raw/Da...</td>\n",
       "      <td>3d</td>\n",
       "    </tr>\n",
       "    <tr>\n",
       "      <th>1</th>\n",
       "      <td>/home/orco/data/Orbita_AI/nnUNet/nnUNet_raw/Da...</td>\n",
       "      <td>/home/orco/data/Orbita_AI/nnUNet/nnUNet_raw/Da...</td>\n",
       "      <td>3d</td>\n",
       "    </tr>\n",
       "    <tr>\n",
       "      <th>2</th>\n",
       "      <td>/home/orco/data/Orbita_AI/nnUNet/nnUNet_raw/Da...</td>\n",
       "      <td>/home/orco/data/Orbita_AI/nnUNet/nnUNet_raw/Da...</td>\n",
       "      <td>3d</td>\n",
       "    </tr>\n",
       "    <tr>\n",
       "      <th>3</th>\n",
       "      <td>/home/orco/data/Orbita_AI/nnUNet/nnUNet_raw/Da...</td>\n",
       "      <td>/home/orco/data/Orbita_AI/nnUNet/nnUNet_raw/Da...</td>\n",
       "      <td>3d</td>\n",
       "    </tr>\n",
       "    <tr>\n",
       "      <th>4</th>\n",
       "      <td>/home/orco/data/Orbita_AI/nnUNet/nnUNet_raw/Da...</td>\n",
       "      <td>/home/orco/data/Orbita_AI/nnUNet/nnUNet_raw/Da...</td>\n",
       "      <td>3d</td>\n",
       "    </tr>\n",
       "  </tbody>\n",
       "</table>\n",
       "</div>"
      ],
      "text/plain": [
       "                                          prediction  \\\n",
       "0  /home/orco/data/Orbita_AI/nnUNet/nnUNet_raw/Da...   \n",
       "1  /home/orco/data/Orbita_AI/nnUNet/nnUNet_raw/Da...   \n",
       "2  /home/orco/data/Orbita_AI/nnUNet/nnUNet_raw/Da...   \n",
       "3  /home/orco/data/Orbita_AI/nnUNet/nnUNet_raw/Da...   \n",
       "4  /home/orco/data/Orbita_AI/nnUNet/nnUNet_raw/Da...   \n",
       "\n",
       "                                                  gt geom  \n",
       "0  /home/orco/data/Orbita_AI/nnUNet/nnUNet_raw/Da...   3d  \n",
       "1  /home/orco/data/Orbita_AI/nnUNet/nnUNet_raw/Da...   3d  \n",
       "2  /home/orco/data/Orbita_AI/nnUNet/nnUNet_raw/Da...   3d  \n",
       "3  /home/orco/data/Orbita_AI/nnUNet/nnUNet_raw/Da...   3d  \n",
       "4  /home/orco/data/Orbita_AI/nnUNet/nnUNet_raw/Da...   3d  "
      ]
     },
     "execution_count": 33,
     "metadata": {},
     "output_type": "execute_result"
    }
   ],
   "source": [
    "df.head()"
   ]
  },
  {
   "cell_type": "code",
   "execution_count": 34,
   "id": "c5cc60f8-2da7-4f1d-b338-246e8206dca3",
   "metadata": {},
   "outputs": [
    {
     "data": {
      "text/plain": [
       "'/home/orco/data/Orbita_AI/nnUNet/nnUNet_raw/Dataset001_test/test_3d/OrbitAI_12321247.nii.gz'"
      ]
     },
     "execution_count": 34,
     "metadata": {},
     "output_type": "execute_result"
    }
   ],
   "source": [
    "df.prediction[0]"
   ]
  },
  {
   "cell_type": "code",
   "execution_count": 53,
   "id": "1e9c64ce-b86b-4a69-abe0-4d92adf5d3c5",
   "metadata": {},
   "outputs": [],
   "source": [
    "res = []\n",
    "for i,j in zip(list(df.prediction),list(df['gt'])):\n",
    "    res.append([i,j] + utils.mp_dice_n(i, j, [1,2,3,4]) + [mask_utils.has_label(j,3), mask_utils.has_label(j,4), mask_utils.has_label(j,3), mask_utils.has_label(j,4)])"
   ]
  },
  {
   "cell_type": "code",
   "execution_count": 54,
   "id": "0c0e6f9a-1736-4f4c-9856-9b02f6d3ec69",
   "metadata": {},
   "outputs": [
    {
     "data": {
      "text/html": [
       "<div>\n",
       "<style scoped>\n",
       "    .dataframe tbody tr th:only-of-type {\n",
       "        vertical-align: middle;\n",
       "    }\n",
       "\n",
       "    .dataframe tbody tr th {\n",
       "        vertical-align: top;\n",
       "    }\n",
       "\n",
       "    .dataframe thead th {\n",
       "        text-align: right;\n",
       "    }\n",
       "</style>\n",
       "<table border=\"1\" class=\"dataframe\">\n",
       "  <thead>\n",
       "    <tr style=\"text-align: right;\">\n",
       "      <th></th>\n",
       "      <th>0</th>\n",
       "      <th>1</th>\n",
       "      <th>2</th>\n",
       "      <th>3</th>\n",
       "      <th>4</th>\n",
       "      <th>5</th>\n",
       "      <th>6</th>\n",
       "      <th>7</th>\n",
       "      <th>8</th>\n",
       "      <th>9</th>\n",
       "    </tr>\n",
       "  </thead>\n",
       "  <tbody>\n",
       "    <tr>\n",
       "      <th>0</th>\n",
       "      <td>/home/orco/data/Orbita_AI/nnUNet/nnUNet_raw/Da...</td>\n",
       "      <td>/home/orco/data/Orbita_AI/nnUNet/nnUNet_raw/Da...</td>\n",
       "      <td>0.948850</td>\n",
       "      <td>0.818869</td>\n",
       "      <td>0.000000</td>\n",
       "      <td>0.525356</td>\n",
       "      <td>False</td>\n",
       "      <td>True</td>\n",
       "      <td>False</td>\n",
       "      <td>True</td>\n",
       "    </tr>\n",
       "    <tr>\n",
       "      <th>1</th>\n",
       "      <td>/home/orco/data/Orbita_AI/nnUNet/nnUNet_raw/Da...</td>\n",
       "      <td>/home/orco/data/Orbita_AI/nnUNet/nnUNet_raw/Da...</td>\n",
       "      <td>0.868894</td>\n",
       "      <td>0.871292</td>\n",
       "      <td>0.000253</td>\n",
       "      <td>0.456496</td>\n",
       "      <td>True</td>\n",
       "      <td>True</td>\n",
       "      <td>True</td>\n",
       "      <td>True</td>\n",
       "    </tr>\n",
       "    <tr>\n",
       "      <th>2</th>\n",
       "      <td>/home/orco/data/Orbita_AI/nnUNet/nnUNet_raw/Da...</td>\n",
       "      <td>/home/orco/data/Orbita_AI/nnUNet/nnUNet_raw/Da...</td>\n",
       "      <td>0.892489</td>\n",
       "      <td>0.856616</td>\n",
       "      <td>0.000000</td>\n",
       "      <td>0.520145</td>\n",
       "      <td>False</td>\n",
       "      <td>True</td>\n",
       "      <td>False</td>\n",
       "      <td>True</td>\n",
       "    </tr>\n",
       "    <tr>\n",
       "      <th>3</th>\n",
       "      <td>/home/orco/data/Orbita_AI/nnUNet/nnUNet_raw/Da...</td>\n",
       "      <td>/home/orco/data/Orbita_AI/nnUNet/nnUNet_raw/Da...</td>\n",
       "      <td>0.901672</td>\n",
       "      <td>0.847869</td>\n",
       "      <td>0.001034</td>\n",
       "      <td>0.683816</td>\n",
       "      <td>True</td>\n",
       "      <td>True</td>\n",
       "      <td>True</td>\n",
       "      <td>True</td>\n",
       "    </tr>\n",
       "    <tr>\n",
       "      <th>4</th>\n",
       "      <td>/home/orco/data/Orbita_AI/nnUNet/nnUNet_raw/Da...</td>\n",
       "      <td>/home/orco/data/Orbita_AI/nnUNet/nnUNet_raw/Da...</td>\n",
       "      <td>0.943575</td>\n",
       "      <td>0.772958</td>\n",
       "      <td>0.108936</td>\n",
       "      <td>0.000000</td>\n",
       "      <td>True</td>\n",
       "      <td>False</td>\n",
       "      <td>True</td>\n",
       "      <td>False</td>\n",
       "    </tr>\n",
       "  </tbody>\n",
       "</table>\n",
       "</div>"
      ],
      "text/plain": [
       "                                                   0  \\\n",
       "0  /home/orco/data/Orbita_AI/nnUNet/nnUNet_raw/Da...   \n",
       "1  /home/orco/data/Orbita_AI/nnUNet/nnUNet_raw/Da...   \n",
       "2  /home/orco/data/Orbita_AI/nnUNet/nnUNet_raw/Da...   \n",
       "3  /home/orco/data/Orbita_AI/nnUNet/nnUNet_raw/Da...   \n",
       "4  /home/orco/data/Orbita_AI/nnUNet/nnUNet_raw/Da...   \n",
       "\n",
       "                                                   1         2         3  \\\n",
       "0  /home/orco/data/Orbita_AI/nnUNet/nnUNet_raw/Da...  0.948850  0.818869   \n",
       "1  /home/orco/data/Orbita_AI/nnUNet/nnUNet_raw/Da...  0.868894  0.871292   \n",
       "2  /home/orco/data/Orbita_AI/nnUNet/nnUNet_raw/Da...  0.892489  0.856616   \n",
       "3  /home/orco/data/Orbita_AI/nnUNet/nnUNet_raw/Da...  0.901672  0.847869   \n",
       "4  /home/orco/data/Orbita_AI/nnUNet/nnUNet_raw/Da...  0.943575  0.772958   \n",
       "\n",
       "          4         5      6      7      8      9  \n",
       "0  0.000000  0.525356  False   True  False   True  \n",
       "1  0.000253  0.456496   True   True   True   True  \n",
       "2  0.000000  0.520145  False   True  False   True  \n",
       "3  0.001034  0.683816   True   True   True   True  \n",
       "4  0.108936  0.000000   True  False   True  False  "
      ]
     },
     "execution_count": 54,
     "metadata": {},
     "output_type": "execute_result"
    }
   ],
   "source": [
    "df = pd.DataFrame(res)\n",
    "df.head()"
   ]
  },
  {
   "cell_type": "code",
   "execution_count": 55,
   "id": "11bb2ae5-3a62-454c-a61d-a74365aa5582",
   "metadata": {},
   "outputs": [],
   "source": [
    "df.columns = ['prediction', 'gt', 'DSC_eye', 'DSC_nerve', 'DSC_ret_det', 'DSC_tumor', 'has_ret_det', 'has_tumor', 'pred_ret_det', 'pred_tumor']\n",
    "df['geom'] = df.prediction.apply(lambda x: '3d' if 'test_3d' in x else '2d' if 'test_2d' in x else 'NA')"
   ]
  },
  {
   "cell_type": "code",
   "execution_count": 56,
   "id": "2a9fbcc0-b789-48cf-b574-e6d658716ab1",
   "metadata": {},
   "outputs": [
    {
     "data": {
      "text/html": [
       "<div>\n",
       "<style scoped>\n",
       "    .dataframe tbody tr th:only-of-type {\n",
       "        vertical-align: middle;\n",
       "    }\n",
       "\n",
       "    .dataframe tbody tr th {\n",
       "        vertical-align: top;\n",
       "    }\n",
       "\n",
       "    .dataframe thead th {\n",
       "        text-align: right;\n",
       "    }\n",
       "</style>\n",
       "<table border=\"1\" class=\"dataframe\">\n",
       "  <thead>\n",
       "    <tr style=\"text-align: right;\">\n",
       "      <th></th>\n",
       "      <th>prediction</th>\n",
       "      <th>gt</th>\n",
       "      <th>DSC_eye</th>\n",
       "      <th>DSC_nerve</th>\n",
       "      <th>DSC_ret_det</th>\n",
       "      <th>DSC_tumor</th>\n",
       "      <th>has_ret_det</th>\n",
       "      <th>has_tumor</th>\n",
       "      <th>pred_ret_det</th>\n",
       "      <th>pred_tumor</th>\n",
       "      <th>geom</th>\n",
       "    </tr>\n",
       "  </thead>\n",
       "  <tbody>\n",
       "    <tr>\n",
       "      <th>0</th>\n",
       "      <td>/home/orco/data/Orbita_AI/nnUNet/nnUNet_raw/Da...</td>\n",
       "      <td>/home/orco/data/Orbita_AI/nnUNet/nnUNet_raw/Da...</td>\n",
       "      <td>0.948850</td>\n",
       "      <td>0.818869</td>\n",
       "      <td>0.000000</td>\n",
       "      <td>0.525356</td>\n",
       "      <td>False</td>\n",
       "      <td>True</td>\n",
       "      <td>False</td>\n",
       "      <td>True</td>\n",
       "      <td>3d</td>\n",
       "    </tr>\n",
       "    <tr>\n",
       "      <th>1</th>\n",
       "      <td>/home/orco/data/Orbita_AI/nnUNet/nnUNet_raw/Da...</td>\n",
       "      <td>/home/orco/data/Orbita_AI/nnUNet/nnUNet_raw/Da...</td>\n",
       "      <td>0.868894</td>\n",
       "      <td>0.871292</td>\n",
       "      <td>0.000253</td>\n",
       "      <td>0.456496</td>\n",
       "      <td>True</td>\n",
       "      <td>True</td>\n",
       "      <td>True</td>\n",
       "      <td>True</td>\n",
       "      <td>3d</td>\n",
       "    </tr>\n",
       "    <tr>\n",
       "      <th>2</th>\n",
       "      <td>/home/orco/data/Orbita_AI/nnUNet/nnUNet_raw/Da...</td>\n",
       "      <td>/home/orco/data/Orbita_AI/nnUNet/nnUNet_raw/Da...</td>\n",
       "      <td>0.892489</td>\n",
       "      <td>0.856616</td>\n",
       "      <td>0.000000</td>\n",
       "      <td>0.520145</td>\n",
       "      <td>False</td>\n",
       "      <td>True</td>\n",
       "      <td>False</td>\n",
       "      <td>True</td>\n",
       "      <td>3d</td>\n",
       "    </tr>\n",
       "    <tr>\n",
       "      <th>3</th>\n",
       "      <td>/home/orco/data/Orbita_AI/nnUNet/nnUNet_raw/Da...</td>\n",
       "      <td>/home/orco/data/Orbita_AI/nnUNet/nnUNet_raw/Da...</td>\n",
       "      <td>0.901672</td>\n",
       "      <td>0.847869</td>\n",
       "      <td>0.001034</td>\n",
       "      <td>0.683816</td>\n",
       "      <td>True</td>\n",
       "      <td>True</td>\n",
       "      <td>True</td>\n",
       "      <td>True</td>\n",
       "      <td>3d</td>\n",
       "    </tr>\n",
       "    <tr>\n",
       "      <th>4</th>\n",
       "      <td>/home/orco/data/Orbita_AI/nnUNet/nnUNet_raw/Da...</td>\n",
       "      <td>/home/orco/data/Orbita_AI/nnUNet/nnUNet_raw/Da...</td>\n",
       "      <td>0.943575</td>\n",
       "      <td>0.772958</td>\n",
       "      <td>0.108936</td>\n",
       "      <td>0.000000</td>\n",
       "      <td>True</td>\n",
       "      <td>False</td>\n",
       "      <td>True</td>\n",
       "      <td>False</td>\n",
       "      <td>3d</td>\n",
       "    </tr>\n",
       "  </tbody>\n",
       "</table>\n",
       "</div>"
      ],
      "text/plain": [
       "                                          prediction  \\\n",
       "0  /home/orco/data/Orbita_AI/nnUNet/nnUNet_raw/Da...   \n",
       "1  /home/orco/data/Orbita_AI/nnUNet/nnUNet_raw/Da...   \n",
       "2  /home/orco/data/Orbita_AI/nnUNet/nnUNet_raw/Da...   \n",
       "3  /home/orco/data/Orbita_AI/nnUNet/nnUNet_raw/Da...   \n",
       "4  /home/orco/data/Orbita_AI/nnUNet/nnUNet_raw/Da...   \n",
       "\n",
       "                                                  gt   DSC_eye  DSC_nerve  \\\n",
       "0  /home/orco/data/Orbita_AI/nnUNet/nnUNet_raw/Da...  0.948850   0.818869   \n",
       "1  /home/orco/data/Orbita_AI/nnUNet/nnUNet_raw/Da...  0.868894   0.871292   \n",
       "2  /home/orco/data/Orbita_AI/nnUNet/nnUNet_raw/Da...  0.892489   0.856616   \n",
       "3  /home/orco/data/Orbita_AI/nnUNet/nnUNet_raw/Da...  0.901672   0.847869   \n",
       "4  /home/orco/data/Orbita_AI/nnUNet/nnUNet_raw/Da...  0.943575   0.772958   \n",
       "\n",
       "   DSC_ret_det  DSC_tumor  has_ret_det  has_tumor  pred_ret_det  pred_tumor  \\\n",
       "0     0.000000   0.525356        False       True         False        True   \n",
       "1     0.000253   0.456496         True       True          True        True   \n",
       "2     0.000000   0.520145        False       True         False        True   \n",
       "3     0.001034   0.683816         True       True          True        True   \n",
       "4     0.108936   0.000000         True      False          True       False   \n",
       "\n",
       "  geom  \n",
       "0   3d  \n",
       "1   3d  \n",
       "2   3d  \n",
       "3   3d  \n",
       "4   3d  "
      ]
     },
     "execution_count": 56,
     "metadata": {},
     "output_type": "execute_result"
    }
   ],
   "source": [
    "df.head()"
   ]
  },
  {
   "cell_type": "code",
   "execution_count": 57,
   "id": "551fa125-37fe-4707-909f-4be5e594d641",
   "metadata": {},
   "outputs": [],
   "source": [
    "df['sid'] = df.prediction.apply(lambda x: os.path.basename(x).split('_')[1].replace('.nii.gz',''))"
   ]
  },
  {
   "cell_type": "code",
   "execution_count": 62,
   "id": "0bcf0620-e034-46f5-a43c-58b72a1989b8",
   "metadata": {},
   "outputs": [
    {
     "data": {
      "text/plain": [
       "'2023823'"
      ]
     },
     "execution_count": 62,
     "metadata": {},
     "output_type": "execute_result"
    }
   ],
   "source": [
    "date = '{}{}{}'.format(datetime.now().year, datetime.now().month, datetime.now().day)\n",
    "date"
   ]
  },
  {
   "cell_type": "code",
   "execution_count": 64,
   "id": "30183632-b407-4779-80bb-8dc68b805673",
   "metadata": {},
   "outputs": [],
   "source": [
    "df.to_csv('../data/test_dsc_{}.csv'.format(date))"
   ]
  },
  {
   "cell_type": "code",
   "execution_count": null,
   "id": "f1cc63ff-b766-41d4-b437-78c50d9182e3",
   "metadata": {},
   "outputs": [],
   "source": []
  }
 ],
 "metadata": {
  "kernelspec": {
   "display_name": "Python 3 (ipykernel)",
   "language": "python",
   "name": "python3"
  },
  "language_info": {
   "codemirror_mode": {
    "name": "ipython",
    "version": 3
   },
   "file_extension": ".py",
   "mimetype": "text/x-python",
   "name": "python",
   "nbconvert_exporter": "python",
   "pygments_lexer": "ipython3",
   "version": "3.10.8"
  }
 },
 "nbformat": 4,
 "nbformat_minor": 5
}
