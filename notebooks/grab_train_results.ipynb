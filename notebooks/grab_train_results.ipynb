{
 "cells": [
  {
   "cell_type": "code",
   "execution_count": 1,
   "id": "308b8c50-91d9-468e-9a43-d125a926aa84",
   "metadata": {},
   "outputs": [],
   "source": [
    "import re\n",
    "import glob, os\n",
    "import pandas as pd\n",
    "import numpy as np\n",
    "from datetime import datetime"
   ]
  },
  {
   "cell_type": "code",
   "execution_count": 2,
   "id": "5c69a871-71c7-4055-abbc-a6eb4bb55fba",
   "metadata": {},
   "outputs": [],
   "source": [
    "f = 'fold1'"
   ]
  },
  {
   "cell_type": "code",
   "execution_count": 3,
   "id": "e36353c1-2769-4fb9-be06-07bec4ec9432",
   "metadata": {},
   "outputs": [],
   "source": [
    "log_files = glob.glob('/home/orco/data/Orbita_AI/nnUNet/results/Dataset001_test/nnUNetTrainer__nnUNetPlans__*/fold_1/training_log*.txt')"
   ]
  },
  {
   "cell_type": "code",
   "execution_count": 4,
   "id": "0e2e5cdc-3ee8-4a4a-9a76-c914cf41e5ab",
   "metadata": {},
   "outputs": [
    {
     "data": {
      "text/plain": [
       "['/home/orco/data/Orbita_AI/nnUNet/results/Dataset001_test/nnUNetTrainer__nnUNetPlans__2d/fold_1/training_log_2023_7_28_15_20_51.txt',\n",
       " '/home/orco/data/Orbita_AI/nnUNet/results/Dataset001_test/nnUNetTrainer__nnUNetPlans__2d/fold_1/training_log_2023_7_28_15_28_02.txt',\n",
       " '/home/orco/data/Orbita_AI/nnUNet/results/Dataset001_test/nnUNetTrainer__nnUNetPlans__2d/fold_1/training_log_2023_7_28_15_34_13.txt',\n",
       " '/home/orco/data/Orbita_AI/nnUNet/results/Dataset001_test/nnUNetTrainer__nnUNetPlans__3d_fullres/fold_1/training_log_2023_7_29_08_20_56.txt']"
      ]
     },
     "execution_count": 4,
     "metadata": {},
     "output_type": "execute_result"
    }
   ],
   "source": [
    "log_files"
   ]
  },
  {
   "cell_type": "code",
   "execution_count": 5,
   "id": "5b024a2b-82fc-448e-8e6c-c72016bdbb42",
   "metadata": {},
   "outputs": [],
   "source": [
    "log_rgx = r'.*Pseudo dice.*(0\\.\\d*), (0\\.\\d*), (0\\.\\d*), (0\\.\\d*)'"
   ]
  },
  {
   "cell_type": "code",
   "execution_count": 7,
   "id": "97b224ea-86d5-4750-b037-ee0749111636",
   "metadata": {},
   "outputs": [
    {
     "name": "stdout",
     "output_type": "stream",
     "text": [
      "Dataset001_test 2d fold_1\n",
      "Dataset001_test 2d fold_1\n",
      "Dataset001_test 2d fold_1\n",
      "Dataset001_test 3d_fullres fold_1\n"
     ]
    }
   ],
   "source": [
    "train_dsc = list()\n",
    "for i in log_files:\n",
    "    ds = i.split('/')[-4]\n",
    "    geom = i.split('/')[-3].split('__')[-1]\n",
    "    fld = i.split('/')[-2]\n",
    "    print(ds, geom, fld)\n",
    "    with open(i, 'r') as f:\n",
    "        n = 1\n",
    "        for line in f:\n",
    "            if 'Pseudo dice' in line:\n",
    "                match = re.match(log_rgx, line)\n",
    "                train_dsc.append((ds, geom, fld, n, match[1], match[2], match[3], match[4]))\n",
    "                n += 1"
   ]
  },
  {
   "cell_type": "code",
   "execution_count": 8,
   "id": "cd6b0c01-0cc7-4d28-a1da-75c382e86b9e",
   "metadata": {},
   "outputs": [
    {
     "data": {
      "text/html": [
       "<div>\n",
       "<style scoped>\n",
       "    .dataframe tbody tr th:only-of-type {\n",
       "        vertical-align: middle;\n",
       "    }\n",
       "\n",
       "    .dataframe tbody tr th {\n",
       "        vertical-align: top;\n",
       "    }\n",
       "\n",
       "    .dataframe thead th {\n",
       "        text-align: right;\n",
       "    }\n",
       "</style>\n",
       "<table border=\"1\" class=\"dataframe\">\n",
       "  <thead>\n",
       "    <tr style=\"text-align: right;\">\n",
       "      <th></th>\n",
       "      <th>Dataset</th>\n",
       "      <th>geometry</th>\n",
       "      <th>fold</th>\n",
       "      <th>epoch</th>\n",
       "      <th>eye</th>\n",
       "      <th>nerve</th>\n",
       "      <th>tumor</th>\n",
       "      <th>ret_det</th>\n",
       "    </tr>\n",
       "  </thead>\n",
       "  <tbody>\n",
       "    <tr>\n",
       "      <th>0</th>\n",
       "      <td>Dataset001_test</td>\n",
       "      <td>2d</td>\n",
       "      <td>fold_1</td>\n",
       "      <td>1</td>\n",
       "      <td>0.8535</td>\n",
       "      <td>0.0</td>\n",
       "      <td>0.0</td>\n",
       "      <td>0.0</td>\n",
       "    </tr>\n",
       "    <tr>\n",
       "      <th>1</th>\n",
       "      <td>Dataset001_test</td>\n",
       "      <td>2d</td>\n",
       "      <td>fold_1</td>\n",
       "      <td>2</td>\n",
       "      <td>0.9054</td>\n",
       "      <td>0.6177</td>\n",
       "      <td>0.0</td>\n",
       "      <td>0.0</td>\n",
       "    </tr>\n",
       "    <tr>\n",
       "      <th>2</th>\n",
       "      <td>Dataset001_test</td>\n",
       "      <td>2d</td>\n",
       "      <td>fold_1</td>\n",
       "      <td>3</td>\n",
       "      <td>0.9299</td>\n",
       "      <td>0.7906</td>\n",
       "      <td>0.4665</td>\n",
       "      <td>0.7452</td>\n",
       "    </tr>\n",
       "    <tr>\n",
       "      <th>3</th>\n",
       "      <td>Dataset001_test</td>\n",
       "      <td>2d</td>\n",
       "      <td>fold_1</td>\n",
       "      <td>4</td>\n",
       "      <td>0.9443</td>\n",
       "      <td>0.8234</td>\n",
       "      <td>0.6129</td>\n",
       "      <td>0.8271</td>\n",
       "    </tr>\n",
       "    <tr>\n",
       "      <th>4</th>\n",
       "      <td>Dataset001_test</td>\n",
       "      <td>2d</td>\n",
       "      <td>fold_1</td>\n",
       "      <td>5</td>\n",
       "      <td>0.9438</td>\n",
       "      <td>0.8351</td>\n",
       "      <td>0.6541</td>\n",
       "      <td>0.8438</td>\n",
       "    </tr>\n",
       "  </tbody>\n",
       "</table>\n",
       "</div>"
      ],
      "text/plain": [
       "           Dataset geometry    fold  epoch     eye   nerve   tumor ret_det\n",
       "0  Dataset001_test       2d  fold_1      1  0.8535     0.0     0.0     0.0\n",
       "1  Dataset001_test       2d  fold_1      2  0.9054  0.6177     0.0     0.0\n",
       "2  Dataset001_test       2d  fold_1      3  0.9299  0.7906  0.4665  0.7452\n",
       "3  Dataset001_test       2d  fold_1      4  0.9443  0.8234  0.6129  0.8271\n",
       "4  Dataset001_test       2d  fold_1      5  0.9438  0.8351  0.6541  0.8438"
      ]
     },
     "execution_count": 8,
     "metadata": {},
     "output_type": "execute_result"
    }
   ],
   "source": [
    "train_df = pd.DataFrame(train_dsc)\n",
    "train_df.columns = ['Dataset', 'geometry', 'fold', 'epoch', 'eye', 'nerve', 'tumor', 'ret_det']\n",
    "train_df.head()"
   ]
  },
  {
   "cell_type": "code",
   "execution_count": 11,
   "id": "66bf0f6a-1540-4df6-b9f2-dbb33fe49891",
   "metadata": {},
   "outputs": [
    {
     "data": {
      "text/plain": [
       "'2023823'"
      ]
     },
     "execution_count": 11,
     "metadata": {},
     "output_type": "execute_result"
    }
   ],
   "source": [
    "date = '{}{}{}'.format(datetime.now().year, datetime.now().month, datetime.now().day)\n",
    "date"
   ]
  },
  {
   "cell_type": "code",
   "execution_count": 12,
   "id": "9f61edf5-d5dc-4c8e-ba16-528f95f06f2c",
   "metadata": {},
   "outputs": [],
   "source": [
    "train_df.to_csv('../data/train_dsc_{}.csv'.format(date))"
   ]
  },
  {
   "cell_type": "code",
   "execution_count": null,
   "id": "f59108e7-5c4e-41dd-9588-0717a260abcd",
   "metadata": {},
   "outputs": [],
   "source": []
  },
  {
   "cell_type": "code",
   "execution_count": null,
   "id": "6938b962-8b13-4931-88a0-34874928b627",
   "metadata": {},
   "outputs": [],
   "source": []
  }
 ],
 "metadata": {
  "kernelspec": {
   "display_name": "Python 3 (ipykernel)",
   "language": "python",
   "name": "python3"
  },
  "language_info": {
   "codemirror_mode": {
    "name": "ipython",
    "version": 3
   },
   "file_extension": ".py",
   "mimetype": "text/x-python",
   "name": "python",
   "nbconvert_exporter": "python",
   "pygments_lexer": "ipython3",
   "version": "3.10.8"
  }
 },
 "nbformat": 4,
 "nbformat_minor": 5
}
