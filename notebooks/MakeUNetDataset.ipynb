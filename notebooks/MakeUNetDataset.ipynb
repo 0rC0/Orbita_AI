{
 "cells": [
  {
   "cell_type": "code",
   "execution_count": 34,
   "id": "995cb99e-98bf-443c-b871-e394250fbc1a",
   "metadata": {
    "tags": []
   },
   "outputs": [
    {
     "name": "stderr",
     "output_type": "stream",
     "text": [
      "/home/orco/anaconda3/envs/nnunet/lib/python3.9/site-packages/tqdm/auto.py:21: TqdmWarning: IProgress not found. Please update jupyter and ipywidgets. See https://ipywidgets.readthedocs.io/en/stable/user_install.html\n",
      "  from .autonotebook import tqdm as notebook_tqdm\n"
     ]
    }
   ],
   "source": [
    "import os\n",
    "import re\n",
    "import glob\n",
    "import shutil\n",
    "import json\n",
    "import random\n",
    "import numpy as np\n",
    "import nibabel as nib\n",
    "import torchio as tio\n"
   ]
  },
  {
   "cell_type": "code",
   "execution_count": 2,
   "id": "5d99e425-832b-4d31-ad14-de24634809a5",
   "metadata": {
    "tags": []
   },
   "outputs": [],
   "source": [
    "classes = {1 : 'eye',\n",
    "          2 : 'nerve',\n",
    "          3: 'tumor',\n",
    "          4: 'ret_det'}"
   ]
  },
  {
   "cell_type": "markdown",
   "id": "4b74a0d5-425d-44bf-9471-dad9697d1757",
   "metadata": {
    "tags": []
   },
   "source": [
    "# Grab SIDs"
   ]
  },
  {
   "cell_type": "code",
   "execution_count": 5,
   "id": "37f80a2c-1e6c-468f-9110-a744134bcce7",
   "metadata": {
    "tags": []
   },
   "outputs": [
    {
     "data": {
      "text/plain": [
       "30"
      ]
     },
     "execution_count": 5,
     "metadata": {},
     "output_type": "execute_result"
    }
   ],
   "source": [
    "masks = glob.glob('/home/orco/data/Orbita_AI/Dataset/labels/*/*.nii.gz')\n",
    "sids = [i.split('/')[-2] for i in masks]\n",
    "len(sids)"
   ]
  },
  {
   "cell_type": "markdown",
   "id": "381bc318-582b-40ef-90d0-b294d38a1917",
   "metadata": {},
   "source": [
    "# Make nnUNet Dataset"
   ]
  },
  {
   "cell_type": "code",
   "execution_count": 12,
   "id": "26a5cdaf-100d-47b7-9704-3fe3c54465d2",
   "metadata": {
    "tags": []
   },
   "outputs": [
    {
     "name": "stdout",
     "output_type": "stream",
     "text": [
      "001 Dataset001_test\n"
     ]
    }
   ],
   "source": [
    "dataset_name = 'Dataset001_test'\n",
    "task_n = re.match(r'Dataset(\\d{3})_.*', dataset_name)[1]\n",
    "print(task_n, dataset_name)"
   ]
  },
  {
   "cell_type": "code",
   "execution_count": 26,
   "id": "4b4cd67a-a3ab-4701-b565-3a999de14fc3",
   "metadata": {
    "tags": []
   },
   "outputs": [],
   "source": [
    "n_train = 30\n",
    "train_sids = random.sample(sids, n_train)\n",
    "test_sids = [i for i in sids if i not in train_sids]"
   ]
  },
  {
   "cell_type": "markdown",
   "id": "9197a710-b6d5-4b18-a918-9edca054e095",
   "metadata": {},
   "source": [
    "## imgs and labels paths"
   ]
  },
  {
   "cell_type": "code",
   "execution_count": 69,
   "id": "b2e5db18-5e1f-4f51-be96-8772c87bbac4",
   "metadata": {
    "tags": []
   },
   "outputs": [],
   "source": [
    "imgsm = '../../Dataset/images/{sid}.nii.gz'\n",
    "lblsm = '../../Dataset/labels/{sid}/{sid}.nii.gz'"
   ]
  },
  {
   "cell_type": "code",
   "execution_count": 70,
   "id": "0dc2606a-5852-447f-8927-a64bbca06b00",
   "metadata": {
    "tags": []
   },
   "outputs": [],
   "source": [
    "dest_imgsm = '../../nnUNet/nnUNet_raw/{ds}/imagesTr/OrbitAI_{sid}_0000.nii.gz'\n",
    "dest_lblsm = '../../nnUNet/nnUNet_raw/{ds}/labelsTr/OrbitAI_{sid}.nii.gz'"
   ]
  },
  {
   "cell_type": "code",
   "execution_count": 71,
   "id": "edb19b70-3a0d-4497-9619-2d57615f641d",
   "metadata": {
    "tags": []
   },
   "outputs": [],
   "source": [
    "def recv_and(l):\n",
    "    if len(l) > 1:\n",
    "        return l[0] and recv_and(l[1:])\n",
    "    else:\n",
    "        return l[0]"
   ]
  },
  {
   "cell_type": "code",
   "execution_count": 72,
   "id": "535f2406-7842-4246-8f51-52abd7124acc",
   "metadata": {
    "tags": []
   },
   "outputs": [
    {
     "data": {
      "text/plain": [
       "True"
      ]
     },
     "execution_count": 72,
     "metadata": {},
     "output_type": "execute_result"
    }
   ],
   "source": [
    "recv_and([os.path.isfile(imgsm.format(sid=i)) for i in sids])"
   ]
  },
  {
   "cell_type": "code",
   "execution_count": 73,
   "id": "f08b7533-d37c-4f26-8555-2480e750103e",
   "metadata": {
    "tags": []
   },
   "outputs": [
    {
     "data": {
      "text/plain": [
       "True"
      ]
     },
     "execution_count": 73,
     "metadata": {},
     "output_type": "execute_result"
    }
   ],
   "source": [
    "recv_and([os.path.isfile(lblsm.format(sid=i)) for i in sids])"
   ]
  },
  {
   "cell_type": "markdown",
   "id": "b325b95a-aab8-4c72-b6b9-91d8e055d9c0",
   "metadata": {
    "tags": []
   },
   "source": [
    "## Copy files and set labels to UINT8"
   ]
  },
  {
   "cell_type": "code",
   "execution_count": 74,
   "id": "03dee649-80a5-4fd9-b391-469f39521cfb",
   "metadata": {
    "tags": []
   },
   "outputs": [],
   "source": [
    "for i in train_sids:\n",
    "    src_img = imgsm.format(sid=i)\n",
    "    dest_img = dest_imgsm.format(ds=dataset_name, sid = i)\n",
    "    if not os.path.isdir(os.path.dirname(dest_img)):\n",
    "        os.makedirs(os.path.dirname(dest_img))\n",
    "    shutil.copyfile(src_img, dest_img)\n",
    "    src_lbl = lblsm.format(sid=i)\n",
    "    dest_lbl = dest_lblsm.format(ds=dataset_name, sid = i)\n",
    "    if not os.path.isdir(os.path.dirname(dest_lbl)):\n",
    "        os.makedirs(os.path.dirname(dest_lbl))\n",
    "    nii = nib.load(src_lbl)\n",
    "    nii_arr = nii.get_fdata().astype(np.uint8)\n",
    "    nnii = nib.Nifti1Image(nii_arr, header=nii.header, affine=nii.affine)\n",
    "    nib.save(nnii, dest_lbl)"
   ]
  },
  {
   "cell_type": "markdown",
   "id": "30cdf337-b0ff-49a4-921e-d16816d66e8b",
   "metadata": {
    "tags": []
   },
   "source": [
    "## Augmentation"
   ]
  },
  {
   "cell_type": "code",
   "execution_count": 75,
   "id": "2a09627c-a9cb-41e6-843d-69c948056f19",
   "metadata": {
    "tags": []
   },
   "outputs": [],
   "source": [
    "for n,i in enumerate(train_sids):\n",
    "    src_img = dest_imgsm.format(ds=dataset_name, sid = i)\n",
    "    src_lbl = dest_lblsm.format(ds=dataset_name, sid = i)\n",
    "    tr1 = tio.RandomFlip(axes=('LR'))\n",
    "    tr2 = tio.RandomAffine(scales=(0.95,1.05),\n",
    "                           degrees=5)\n",
    "    tr = tio.Compose([tr1, tr2])\n",
    "    subject = tio.Subject(\n",
    "        img = tio.ScalarImage(src_img),\n",
    "        lbl = tio.LabelMap(src_lbl))\n",
    "    dest_img = dest_imgsm.format(ds=dataset_name, sid = str(n).zfill(8))\n",
    "    dest_lbl = dest_lblsm.format(ds=dataset_name, sid = str(n).zfill(8))\n",
    "    tr_sub = tr(subject)\n",
    "    tr_sub.img.save(dest_img)\n",
    "    tr_sub.lbl.save(dest_lbl)"
   ]
  },
  {
   "cell_type": "markdown",
   "id": "0f334f54-8af1-446c-82a0-24aff57e587f",
   "metadata": {
    "tags": []
   },
   "source": [
    "## Make dataset.json"
   ]
  },
  {
   "cell_type": "code",
   "execution_count": 76,
   "id": "6826c81e-5dfa-41ca-a789-73180a6817c6",
   "metadata": {
    "tags": []
   },
   "outputs": [],
   "source": [
    "ds_json = '../../nnUNet/nnUNet_raw/{ds}/dataset.json'.format(ds=dataset_name)"
   ]
  },
  {
   "cell_type": "code",
   "execution_count": 81,
   "id": "6eacc3c5-fa69-4173-9b24-6dd78ee5f2eb",
   "metadata": {
    "tags": []
   },
   "outputs": [],
   "source": [
    "s = '''{ \n",
    " \"name\": \"OrbitAI\", \n",
    " \"description\": \"OrbitAI\",\n",
    " \"tensorImageSize\": \"4D\",\n",
    " \"channel_names\": { \n",
    "   \"0\": \"T2\"\n",
    " }, \n",
    " \"labels\": { \n",
    "   \"background\": 0, \n",
    "   \"eye\": 1,\n",
    "   \"nerve\": 2,\n",
    "   \"tumor\": 3,\n",
    "   \"ret_det\": 4\n",
    " }, \n",
    " \"numTraining\": %s, \n",
    " \"file_ending\": \".nii.gz\"\n",
    " }''' % (len(train_sids)*2)\n",
    "#"
   ]
  },
  {
   "cell_type": "code",
   "execution_count": 82,
   "id": "4c0ff942-4d92-4a2a-9ffd-eb09048ae627",
   "metadata": {
    "tags": []
   },
   "outputs": [
    {
     "data": {
      "text/plain": [
       "'{ \\n \"name\": \"OrbitAI\", \\n \"description\": \"OrbitAI\",\\n \"tensorImageSize\": \"4D\",\\n \"channel_names\": { \\n   \"0\": \"T2\"\\n }, \\n \"labels\": { \\n   \"background\": 0, \\n   \"eye\": 1,\\n   \"nerve\": 2,\\n   \"tumor\": 3,\\n   \"ret_det\": 4\\n }, \\n \"numTraining\": 60, \\n \"file_ending\": \".nii.gz\"\\n }'"
      ]
     },
     "execution_count": 82,
     "metadata": {},
     "output_type": "execute_result"
    }
   ],
   "source": [
    "s"
   ]
  },
  {
   "cell_type": "code",
   "execution_count": 83,
   "id": "6ed0ffb1-abd5-4f28-8ff7-9ad6b1678868",
   "metadata": {
    "tags": []
   },
   "outputs": [],
   "source": [
    "j = json.loads(s)"
   ]
  },
  {
   "cell_type": "code",
   "execution_count": 84,
   "id": "369fc319-8439-4bf4-befd-d5764b4cc5a8",
   "metadata": {
    "tags": []
   },
   "outputs": [],
   "source": [
    "with open(ds_json, 'w') as f:\n",
    "    json.dump(j, f)"
   ]
  },
  {
   "cell_type": "code",
   "execution_count": null,
   "id": "082ede17-f810-4db5-bd68-16a695042c55",
   "metadata": {},
   "outputs": [],
   "source": []
  },
  {
   "cell_type": "code",
   "execution_count": null,
   "id": "b6278cf1-8a0e-4c72-adc3-c3f9dfeb55e2",
   "metadata": {},
   "outputs": [],
   "source": []
  }
 ],
 "metadata": {
  "kernelspec": {
   "display_name": "Python 3 (ipykernel)",
   "language": "python",
   "name": "python3"
  },
  "language_info": {
   "codemirror_mode": {
    "name": "ipython",
    "version": 3
   },
   "file_extension": ".py",
   "mimetype": "text/x-python",
   "name": "python",
   "nbconvert_exporter": "python",
   "pygments_lexer": "ipython3",
   "version": "3.9.16"
  }
 },
 "nbformat": 4,
 "nbformat_minor": 5
}
