{
 "cells": [
  {
   "cell_type": "code",
   "execution_count": null,
   "id": "283ea6c5-6997-4571-b7c7-9259f91ed3af",
   "metadata": {},
   "outputs": [],
   "source": [
    "import pandas as pd\n",
    "import glob\n",
    "import os\n",
    "import shutil\n",
    "import re\n",
    "from joblib import Parallel, delayed\n",
    "import nibabel as nib\n",
    "import numpy as np\n",
    "import random\n",
    "import seaborn as sns\n",
    "from datetime import datetime"
   ]
  },
  {
   "cell_type": "code",
   "execution_count": null,
   "id": "0f8cdd1c-d237-4d8d-b59e-70ee9a6bbe4d",
   "metadata": {},
   "outputs": [],
   "source": [
    "import sys\n",
    "sys.path.append('/media/raid/orco/data/ICH/code/neurorad_bids_utils')\n",
    "from bids_utils.utils import utils, mask_utils"
   ]
  },
  {
   "cell_type": "code",
   "execution_count": null,
   "id": "b9208cb3-9e23-48c3-bb5c-1d10a93db925",
   "metadata": {},
   "outputs": [],
   "source": [
    "dataset_name = 'Dataset011_5FoldCV'"
   ]
  },
  {
   "cell_type": "code",
   "execution_count": null,
   "id": "b3d5d87f-1005-497f-860e-1806ed9392cf",
   "metadata": {},
   "outputs": [],
   "source": [
    "preds = glob.glob('/home/orco/data/Orbita_AI/nnUNet/nnUNet_raw/Dataset01*CV/test_fold_1/OrbitAI_*.nii.gz')\n",
    "len(preds)"
   ]
  },
  {
   "cell_type": "code",
   "execution_count": null,
   "id": "519dabf4-bbdf-40ae-9655-d1edf431aafe",
   "metadata": {},
   "outputs": [],
   "source": [
    "df = pd.DataFrame(preds)\n",
    "df.columns = ['prediction']\n",
    "df['gt'] = df.prediction.apply(lambda x: '/home/orco/data/Orbita_AI/Dataset/labels_231216/' + os.path.basename(x).replace('OrbitAI_',''))\n",
    "df['fold'] = df.prediction.apply(lambda x: x.split('/')[-2].split('_')[-1])"
   ]
  },
  {
   "cell_type": "code",
   "execution_count": null,
   "id": "0c0fe057-f014-49fd-889f-654df5080546",
   "metadata": {},
   "outputs": [],
   "source": [
    "res = []\n",
    "for i,j in zip(list(df.prediction),list(df['gt'])):\n",
    "    res.append([i,j] + utils.mp_vol_nii_n(i, [1,2,3,4], n_jobs=4) + utils.mp_vol_nii_n(j, [1,2,3,4], n_jobs=4) + [mask_utils.has_label(j,3), mask_utils.has_label(j,4), mask_utils.has_label(i,3), mask_utils.has_label(i,4)])"
   ]
  },
  {
   "cell_type": "code",
   "execution_count": null,
   "id": "61026640-1704-4437-bf4d-b262aed8ef59",
   "metadata": {},
   "outputs": [],
   "source": [
    "df = pd.DataFrame(res)"
   ]
  },
  {
   "cell_type": "code",
   "execution_count": null,
   "id": "91d1e0b6-f838-40d3-b288-15f66a4e7c9a",
   "metadata": {},
   "outputs": [],
   "source": [
    "df.head()"
   ]
  },
  {
   "cell_type": "code",
   "execution_count": null,
   "id": "dead2870-4ad0-47f9-8366-b8604eefd07d",
   "metadata": {},
   "outputs": [],
   "source": []
  },
  {
   "cell_type": "code",
   "execution_count": null,
   "id": "4dc72ce5-8d4c-4922-a9de-bb02e08e6fb7",
   "metadata": {
    "tags": []
   },
   "outputs": [],
   "source": [
    "df.columns = ['prediction', 'gt', 'Vol_pred_eye', 'Vol_pred_nerve', 'Vol_pred_tumor', 'Vol_pred_ret_det', 'Vol_gt_eye', 'Vol_gt_nerve', 'Vol_gt_tumor', 'Vol_gt_ret_det', 'has_tumor', 'has_ret_det', 'pred_tumor', 'pred_ret_det']\n"
   ]
  },
  {
   "cell_type": "code",
   "execution_count": null,
   "id": "cdb37aba-5163-4fce-aef1-7a8c0a34fa34",
   "metadata": {},
   "outputs": [],
   "source": [
    "df['sid'] = df['prediction'].apply(lambda x: x.split('_')[-1].split('.')[0])\n",
    "df['dataset'] = df['prediction'].apply(lambda x: x.split('/')[-3])#.split('.')[0])"
   ]
  },
  {
   "cell_type": "code",
   "execution_count": null,
   "id": "d645fd17-1641-4876-a54f-d54aa0ce1632",
   "metadata": {},
   "outputs": [],
   "source": [
    "df['dataset']"
   ]
  },
  {
   "cell_type": "code",
   "execution_count": null,
   "id": "a7484c5e-654f-4448-b6f2-9e4c37856cc5",
   "metadata": {},
   "outputs": [],
   "source": [
    "date = '{}{}{}'.format(datetime.now().year, datetime.now().month, datetime.now().day)\n",
    "date"
   ]
  },
  {
   "cell_type": "code",
   "execution_count": null,
   "id": "80bf9f1e-deb4-451f-92cb-d64ad8a93608",
   "metadata": {},
   "outputs": [],
   "source": [
    "df.to_csv('../data/volumes_{}_{}.csv'.format('5FoldCV', date), index=False)"
   ]
  },
  {
   "cell_type": "code",
   "execution_count": null,
   "id": "134fa7fb-588d-49e5-8775-6108f6a3b35c",
   "metadata": {},
   "outputs": [],
   "source": []
  }
 ],
 "metadata": {
  "kernelspec": {
   "display_name": "Python 3 (ipykernel)",
   "language": "python",
   "name": "python3"
  },
  "language_info": {
   "codemirror_mode": {
    "name": "ipython",
    "version": 3
   },
   "file_extension": ".py",
   "mimetype": "text/x-python",
   "name": "python",
   "nbconvert_exporter": "python",
   "pygments_lexer": "ipython3",
   "version": "3.10.8"
  }
 },
 "nbformat": 4,
 "nbformat_minor": 5
}
